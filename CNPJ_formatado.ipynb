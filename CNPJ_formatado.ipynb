{
  "nbformat": 4,
  "nbformat_minor": 0,
  "metadata": {
    "colab": {
      "name": "Untitled",
      "provenance": [],
      "include_colab_link": true
    },
    "kernelspec": {
      "name": "python3",
      "display_name": "Python 3"
    },
    "language_info": {
      "name": "python"
    }
  },
  "cells": [
    {
      "cell_type": "markdown",
      "metadata": {
        "id": "view-in-github",
        "colab_type": "text"
      },
      "source": [
        "<a href=\"https://colab.research.google.com/github/LucasPradoP/repo-aula-facul/blob/main/CNPJ_formatado.ipynb\" target=\"_parent\"><img src=\"https://colab.research.google.com/assets/colab-badge.svg\" alt=\"Open In Colab\"/></a>"
      ]
    },
    {
      "cell_type": "code",
      "execution_count": null,
      "metadata": {
        "id": "goW7lW1SF4T4"
      },
      "outputs": [],
      "source": [
        "import pandas as pd\n",
        "import numpy as np"
      ]
    },
    {
      "cell_type": "code",
      "source": [
        "df = pd.read_excel('/content/cnpjs_lala.xlsx')"
      ],
      "metadata": {
        "id": "QiphcJl4GUpG"
      },
      "execution_count": null,
      "outputs": []
    },
    {
      "cell_type": "code",
      "source": [
        "df.head()"
      ],
      "metadata": {
        "colab": {
          "base_uri": "https://localhost:8080/",
          "height": 206
        },
        "id": "w8njZp2VGpgv",
        "outputId": "95505d8b-b337-48fa-f513-a01672b93db1"
      },
      "execution_count": null,
      "outputs": [
        {
          "output_type": "execute_result",
          "data": {
            "text/plain": [
              "             CNPJ   SETOR EQUIPE Regional Distrital Territorial\n",
              "0  61585865000666  OD1A30  RDCHC   OD1000    OD1A00      OD1A30\n",
              "1  61585865000828  OD1A30  RDCHC   OD1000    OD1A00      OD1A30\n",
              "2  61585865001042  OD1A30  RDCHC   OD1000    OD1A00      OD1A30\n",
              "3  61585865001123  OD1A30  RDCHC   OD1000    OD1A00      OD1A30\n",
              "4  61585865001638  OD1A30  RDCHC   OD1000    OD1A00      OD1A30"
            ],
            "text/html": [
              "\n",
              "  <div id=\"df-b803569f-ce9b-46b5-b592-d0eaab000034\">\n",
              "    <div class=\"colab-df-container\">\n",
              "      <div>\n",
              "<style scoped>\n",
              "    .dataframe tbody tr th:only-of-type {\n",
              "        vertical-align: middle;\n",
              "    }\n",
              "\n",
              "    .dataframe tbody tr th {\n",
              "        vertical-align: top;\n",
              "    }\n",
              "\n",
              "    .dataframe thead th {\n",
              "        text-align: right;\n",
              "    }\n",
              "</style>\n",
              "<table border=\"1\" class=\"dataframe\">\n",
              "  <thead>\n",
              "    <tr style=\"text-align: right;\">\n",
              "      <th></th>\n",
              "      <th>CNPJ</th>\n",
              "      <th>SETOR</th>\n",
              "      <th>EQUIPE</th>\n",
              "      <th>Regional</th>\n",
              "      <th>Distrital</th>\n",
              "      <th>Territorial</th>\n",
              "    </tr>\n",
              "  </thead>\n",
              "  <tbody>\n",
              "    <tr>\n",
              "      <th>0</th>\n",
              "      <td>61585865000666</td>\n",
              "      <td>OD1A30</td>\n",
              "      <td>RDCHC</td>\n",
              "      <td>OD1000</td>\n",
              "      <td>OD1A00</td>\n",
              "      <td>OD1A30</td>\n",
              "    </tr>\n",
              "    <tr>\n",
              "      <th>1</th>\n",
              "      <td>61585865000828</td>\n",
              "      <td>OD1A30</td>\n",
              "      <td>RDCHC</td>\n",
              "      <td>OD1000</td>\n",
              "      <td>OD1A00</td>\n",
              "      <td>OD1A30</td>\n",
              "    </tr>\n",
              "    <tr>\n",
              "      <th>2</th>\n",
              "      <td>61585865001042</td>\n",
              "      <td>OD1A30</td>\n",
              "      <td>RDCHC</td>\n",
              "      <td>OD1000</td>\n",
              "      <td>OD1A00</td>\n",
              "      <td>OD1A30</td>\n",
              "    </tr>\n",
              "    <tr>\n",
              "      <th>3</th>\n",
              "      <td>61585865001123</td>\n",
              "      <td>OD1A30</td>\n",
              "      <td>RDCHC</td>\n",
              "      <td>OD1000</td>\n",
              "      <td>OD1A00</td>\n",
              "      <td>OD1A30</td>\n",
              "    </tr>\n",
              "    <tr>\n",
              "      <th>4</th>\n",
              "      <td>61585865001638</td>\n",
              "      <td>OD1A30</td>\n",
              "      <td>RDCHC</td>\n",
              "      <td>OD1000</td>\n",
              "      <td>OD1A00</td>\n",
              "      <td>OD1A30</td>\n",
              "    </tr>\n",
              "  </tbody>\n",
              "</table>\n",
              "</div>\n",
              "      <button class=\"colab-df-convert\" onclick=\"convertToInteractive('df-b803569f-ce9b-46b5-b592-d0eaab000034')\"\n",
              "              title=\"Convert this dataframe to an interactive table.\"\n",
              "              style=\"display:none;\">\n",
              "        \n",
              "  <svg xmlns=\"http://www.w3.org/2000/svg\" height=\"24px\"viewBox=\"0 0 24 24\"\n",
              "       width=\"24px\">\n",
              "    <path d=\"M0 0h24v24H0V0z\" fill=\"none\"/>\n",
              "    <path d=\"M18.56 5.44l.94 2.06.94-2.06 2.06-.94-2.06-.94-.94-2.06-.94 2.06-2.06.94zm-11 1L8.5 8.5l.94-2.06 2.06-.94-2.06-.94L8.5 2.5l-.94 2.06-2.06.94zm10 10l.94 2.06.94-2.06 2.06-.94-2.06-.94-.94-2.06-.94 2.06-2.06.94z\"/><path d=\"M17.41 7.96l-1.37-1.37c-.4-.4-.92-.59-1.43-.59-.52 0-1.04.2-1.43.59L10.3 9.45l-7.72 7.72c-.78.78-.78 2.05 0 2.83L4 21.41c.39.39.9.59 1.41.59.51 0 1.02-.2 1.41-.59l7.78-7.78 2.81-2.81c.8-.78.8-2.07 0-2.86zM5.41 20L4 18.59l7.72-7.72 1.47 1.35L5.41 20z\"/>\n",
              "  </svg>\n",
              "      </button>\n",
              "      \n",
              "  <style>\n",
              "    .colab-df-container {\n",
              "      display:flex;\n",
              "      flex-wrap:wrap;\n",
              "      gap: 12px;\n",
              "    }\n",
              "\n",
              "    .colab-df-convert {\n",
              "      background-color: #E8F0FE;\n",
              "      border: none;\n",
              "      border-radius: 50%;\n",
              "      cursor: pointer;\n",
              "      display: none;\n",
              "      fill: #1967D2;\n",
              "      height: 32px;\n",
              "      padding: 0 0 0 0;\n",
              "      width: 32px;\n",
              "    }\n",
              "\n",
              "    .colab-df-convert:hover {\n",
              "      background-color: #E2EBFA;\n",
              "      box-shadow: 0px 1px 2px rgba(60, 64, 67, 0.3), 0px 1px 3px 1px rgba(60, 64, 67, 0.15);\n",
              "      fill: #174EA6;\n",
              "    }\n",
              "\n",
              "    [theme=dark] .colab-df-convert {\n",
              "      background-color: #3B4455;\n",
              "      fill: #D2E3FC;\n",
              "    }\n",
              "\n",
              "    [theme=dark] .colab-df-convert:hover {\n",
              "      background-color: #434B5C;\n",
              "      box-shadow: 0px 1px 3px 1px rgba(0, 0, 0, 0.15);\n",
              "      filter: drop-shadow(0px 1px 2px rgba(0, 0, 0, 0.3));\n",
              "      fill: #FFFFFF;\n",
              "    }\n",
              "  </style>\n",
              "\n",
              "      <script>\n",
              "        const buttonEl =\n",
              "          document.querySelector('#df-b803569f-ce9b-46b5-b592-d0eaab000034 button.colab-df-convert');\n",
              "        buttonEl.style.display =\n",
              "          google.colab.kernel.accessAllowed ? 'block' : 'none';\n",
              "\n",
              "        async function convertToInteractive(key) {\n",
              "          const element = document.querySelector('#df-b803569f-ce9b-46b5-b592-d0eaab000034');\n",
              "          const dataTable =\n",
              "            await google.colab.kernel.invokeFunction('convertToInteractive',\n",
              "                                                     [key], {});\n",
              "          if (!dataTable) return;\n",
              "\n",
              "          const docLinkHtml = 'Like what you see? Visit the ' +\n",
              "            '<a target=\"_blank\" href=https://colab.research.google.com/notebooks/data_table.ipynb>data table notebook</a>'\n",
              "            + ' to learn more about interactive tables.';\n",
              "          element.innerHTML = '';\n",
              "          dataTable['output_type'] = 'display_data';\n",
              "          await google.colab.output.renderOutput(dataTable, element);\n",
              "          const docLink = document.createElement('div');\n",
              "          docLink.innerHTML = docLinkHtml;\n",
              "          element.appendChild(docLink);\n",
              "        }\n",
              "      </script>\n",
              "    </div>\n",
              "  </div>\n",
              "  "
            ]
          },
          "metadata": {},
          "execution_count": 5
        }
      ]
    },
    {
      "cell_type": "code",
      "source": [
        "cnpjs = df[\"CNPJ\"].values.tolist()\n",
        "setor = df[\"SETOR\"].values.tolist()"
      ],
      "metadata": {
        "id": "hHpU0lWyGuip"
      },
      "execution_count": null,
      "outputs": []
    },
    {
      "cell_type": "code",
      "source": [
        "obj = []\n",
        "for x in range(len(df[\"CNPJ\"])):\n",
        "  obj.append({\"cnpj\": cnpjs[x], \"setor\": setor[x]})"
      ],
      "metadata": {
        "id": "yZZ7FvM-HoG9"
      },
      "execution_count": null,
      "outputs": []
    },
    {
      "cell_type": "code",
      "source": [
        "group = []\n",
        "for x in range(len(obj)):\n",
        "  if(obj[x][\"setor\"] == \"OD1A30\"):\n",
        "    group.append({\"cnpj\": obj[x][\"cnpj\"]})"
      ],
      "metadata": {
        "id": "2rFL-NMOH97Z"
      },
      "execution_count": null,
      "outputs": []
    },
    {
      "cell_type": "code",
      "source": [
        "group[1250:1300]"
      ],
      "metadata": {
        "colab": {
          "base_uri": "https://localhost:8080/"
        },
        "id": "tbF6RjfeJnDx",
        "outputId": "4cf0760b-3017-43e0-a9ce-8921ef610f3f"
      },
      "execution_count": null,
      "outputs": [
        {
          "output_type": "execute_result",
          "data": {
            "text/plain": [
              "[{'cnpj': 61585865145044},\n",
              " {'cnpj': 61585865145125},\n",
              " {'cnpj': 61585865145206},\n",
              " {'cnpj': 61585865145397},\n",
              " {'cnpj': 61585865145478},\n",
              " {'cnpj': 61585865145630},\n",
              " {'cnpj': 61585865145710},\n",
              " {'cnpj': 61585865145800},\n",
              " {'cnpj': 61585865145982},\n",
              " {'cnpj': 61585865146016},\n",
              " {'cnpj': 61585865146105},\n",
              " {'cnpj': 61585865146369},\n",
              " {'cnpj': 61585865146440},\n",
              " {'cnpj': 61585865146601},\n",
              " {'cnpj': 61585865146792},\n",
              " {'cnpj': 61585865146873},\n",
              " {'cnpj': 61585865146954},\n",
              " {'cnpj': 61585865147098},\n",
              " {'cnpj': 61585865147179},\n",
              " {'cnpj': 61585865147330},\n",
              " {'cnpj': 61585865147411},\n",
              " {'cnpj': 61585865147500},\n",
              " {'cnpj': 61585865147683},\n",
              " {'cnpj': 61585865147764},\n",
              " {'cnpj': 61585865147845},\n",
              " {'cnpj': 61585865147926},\n",
              " {'cnpj': 61585865148060},\n",
              " {'cnpj': 61585865148140},\n",
              " {'cnpj': 61585865148221},\n",
              " {'cnpj': 61585865148302},\n",
              " {'cnpj': 61585865148574},\n",
              " {'cnpj': 61585865148655},\n",
              " {'cnpj': 61585865148736},\n",
              " {'cnpj': 61585865148817},\n",
              " {'cnpj': 61585865148906},\n",
              " {'cnpj': 61585865149031},\n",
              " {'cnpj': 61585865149112},\n",
              " {'cnpj': 61585865149201},\n",
              " {'cnpj': 61585865149384},\n",
              " {'cnpj': 61585865149465},\n",
              " {'cnpj': 61585865149546},\n",
              " {'cnpj': 61585865149627},\n",
              " {'cnpj': 61585865149708},\n",
              " {'cnpj': 61585865149899},\n",
              " {'cnpj': 61585865149970},\n",
              " {'cnpj': 61585865150048},\n",
              " {'cnpj': 61585865150129},\n",
              " {'cnpj': 61585865150200},\n",
              " {'cnpj': 61585865150390},\n",
              " {'cnpj': 61585865150552}]"
            ]
          },
          "metadata": {},
          "execution_count": 22
        }
      ]
    }
  ]
}